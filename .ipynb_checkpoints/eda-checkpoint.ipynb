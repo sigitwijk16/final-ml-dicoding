{
 "cells": [
  {
   "cell_type": "code",
   "execution_count": 3,
   "metadata": {},
   "outputs": [
    {
     "name": "stdout",
     "output_type": "stream",
     "text": [
      "     Name of Student  GENERAL APPEARANCE  MANNER OF SPEAKING  \\\n",
      "0          Student 1                   4                   5   \n",
      "1          Student 2                   4                   4   \n",
      "2          Student 3                   4                   3   \n",
      "3          Student 4                   3                   3   \n",
      "4          Student 5                   4                   4   \n",
      "...              ...                 ...                 ...   \n",
      "2977    Student 2996                   4                   3   \n",
      "2978    Student 2997                   3                   4   \n",
      "2979    Student 2998                   4                   5   \n",
      "2980    Student 2999                   4                   4   \n",
      "2981    Student 3000                   4                   4   \n",
      "\n",
      "      PHYSICAL CONDITION  MENTAL ALERTNESS  SELF-CONFIDENCE  \\\n",
      "0                      4                 5                5   \n",
      "1                      4                 4                4   \n",
      "2                      3                 3                3   \n",
      "3                      3                 2                3   \n",
      "4                      3                 3                4   \n",
      "...                  ...               ...              ...   \n",
      "2977                   3                 3                3   \n",
      "2978                   4                 4                4   \n",
      "2979                   4                 5                4   \n",
      "2980                   4                 3                4   \n",
      "2981                   4                 4                3   \n",
      "\n",
      "      ABILITY TO PRESENT IDEAS  COMMUNICATION SKILLS  \\\n",
      "0                            5                     5   \n",
      "1                            4                     3   \n",
      "2                            3                     2   \n",
      "3                            3                     3   \n",
      "4                            4                     3   \n",
      "...                        ...                   ...   \n",
      "2977                         3                     2   \n",
      "2978                         4                     4   \n",
      "2979                         4                     4   \n",
      "2980                         4                     3   \n",
      "2981                         4                     4   \n",
      "\n",
      "      Student Performance Rating           CLASS  \n",
      "0                              5      Employable  \n",
      "1                              5      Employable  \n",
      "2                              5  LessEmployable  \n",
      "3                              5  LessEmployable  \n",
      "4                              5      Employable  \n",
      "...                          ...             ...  \n",
      "2977                           5      Employable  \n",
      "2978                           5      Employable  \n",
      "2979                           5      Employable  \n",
      "2980                           5  LessEmployable  \n",
      "2981                           5      Employable  \n",
      "\n",
      "[2982 rows x 10 columns]\n"
     ]
    }
   ],
   "source": [
    "import pandas as pd\n",
    "\n",
    "# Path to the Excel file\n",
    "excel_file_path = './data/Student-Employability-Datasets.xlsx'\n",
    "\n",
    "# Read the Excel file\n",
    "df = pd.read_excel(excel_file_path)\n",
    "\n",
    "# Print the contents of the DataFrame\n",
    "print(df)"
   ]
  },
  {
   "cell_type": "code",
   "execution_count": 4,
   "metadata": {},
   "outputs": [],
   "source": [
    "csv_file_path = './data/Student-Employability-Datasets.csv'\n",
    "\n",
    "# Convert DataFrame to CSV\n",
    "df.to_csv(csv_file_path, index=False)"
   ]
  },
  {
   "cell_type": "code",
   "execution_count": null,
   "metadata": {},
   "outputs": [],
   "source": [
    "df = pd.read_csv(csv_file_path)"
   ]
  },
  {
   "cell_type": "code",
   "execution_count": 2,
   "metadata": {},
   "outputs": [
    {
     "name": "stdout",
     "output_type": "stream",
     "text": [
      "Collecting openpyxl\n",
      "  Downloading openpyxl-3.1.2-py2.py3-none-any.whl.metadata (2.5 kB)\n",
      "Collecting et-xmlfile (from openpyxl)\n",
      "  Downloading et_xmlfile-1.1.0-py3-none-any.whl.metadata (1.8 kB)\n",
      "Downloading openpyxl-3.1.2-py2.py3-none-any.whl (249 kB)\n",
      "   ---------------------------------------- 0.0/250.0 kB ? eta -:--:--\n",
      "   - -------------------------------------- 10.2/250.0 kB ? eta -:--:--\n",
      "   ------ -------------------------------- 41.0/250.0 kB 667.8 kB/s eta 0:00:01\n",
      "   ---------------------- ----------------- 143.4/250.0 kB 1.2 MB/s eta 0:00:01\n",
      "   ---------------------------------------- 250.0/250.0 kB 1.7 MB/s eta 0:00:00\n",
      "Downloading et_xmlfile-1.1.0-py3-none-any.whl (4.7 kB)\n",
      "Installing collected packages: et-xmlfile, openpyxl\n",
      "Successfully installed et-xmlfile-1.1.0 openpyxl-3.1.2\n"
     ]
    }
   ],
   "source": [
    "!pip install openpyxl"
   ]
  }
 ],
 "metadata": {
  "kernelspec": {
   "display_name": "mloops",
   "language": "python",
   "name": "python3"
  },
  "language_info": {
   "codemirror_mode": {
    "name": "ipython",
    "version": 3
   },
   "file_extension": ".py",
   "mimetype": "text/x-python",
   "name": "python",
   "nbconvert_exporter": "python",
   "pygments_lexer": "ipython3",
   "version": "3.8.19"
  }
 },
 "nbformat": 4,
 "nbformat_minor": 2
}
